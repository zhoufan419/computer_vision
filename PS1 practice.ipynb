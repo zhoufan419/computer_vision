{
 "cells": [
  {
   "cell_type": "code",
   "execution_count": 5,
   "metadata": {
    "collapsed": false
   },
   "outputs": [
    {
     "data": {
      "text/plain": [
       "True"
      ]
     },
     "execution_count": 5,
     "metadata": {},
     "output_type": "execute_result"
    }
   ],
   "source": [
    "import cv2\n",
    "import numpy as np\n",
    "import matplotlib.pyplot as plt\n",
    "\n",
    "#Read and show the original image\n",
    "img = cv2.imread('lena.png')\n",
    "\n",
    "cv2.imshow('Original image',img)\n",
    "\n",
    "#Find the three color channels of the original image. OpenCV uses BGR format.\n",
    "b,g,r = cv2.split(img)\n",
    "#Merging BGR should be the same as the original image.\n",
    "img1 = cv2.merge([b,g,r])\n",
    "#Swap the value of R and B\n",
    "img2 = cv2.merge([r,g,b])\n",
    "\n",
    "#Show the original image (BGR) and processed image (RGB)\n",
    "cv2.imshow('BGR image',img1) # expects true color\n",
    "cv2.imshow('RGB image',img2) # expects distorted color\n",
    "cv2.waitKey(0)\n",
    "cv2.destroyAllWindows()\n",
    "#cv2.imwrite('output\\ps1-1-a-1.png',img)"
   ]
  },
  {
   "cell_type": "code",
   "execution_count": 5,
   "metadata": {
    "collapsed": true
   },
   "outputs": [
    {
     "data": {
      "text/plain": [
       "(array([[76, 76, 77, ..., 57, 55, 54],\n",
       "        [76, 76, 76, ..., 55, 56, 57],\n",
       "        [76, 76, 76, ..., 56, 57, 58],\n",
       "        ..., \n",
       "        [60, 64, 66, ..., 36, 35, 37],\n",
       "        [63, 66, 67, ..., 36, 36, 39],\n",
       "        [56, 59, 63, ..., 37, 37, 41]], dtype=uint8),\n",
       " array([[113, 113, 114, ...,  80,  77,  76],\n",
       "        [113, 113, 113, ...,  77,  78,  79],\n",
       "        [114, 113, 113, ...,  78,  79,  80],\n",
       "        ..., \n",
       "        [ 84,  91,  93, ...,  37,  37,  39],\n",
       "        [ 87,  93,  94, ...,  37,  38,  41],\n",
       "        [ 80,  86,  90, ...,  38,  39,  42]], dtype=uint8),\n",
       " array([[197, 197, 198, ..., 148, 148, 147],\n",
       "        [197, 197, 197, ..., 148, 149, 150],\n",
       "        [196, 197, 197, ..., 149, 150, 152],\n",
       "        ..., \n",
       "        [166, 172, 174, ...,  71,  71,  74],\n",
       "        [169, 174, 175, ...,  71,  73,  76],\n",
       "        [162, 167, 171, ...,  72,  74,  80]], dtype=uint8))"
      ]
     },
     "execution_count": 5,
     "metadata": {},
     "output_type": "execute_result"
    }
   ],
   "source": [
    "b,g,r"
   ]
  },
  {
   "cell_type": "code",
   "execution_count": 6,
   "metadata": {
    "collapsed": true
   },
   "outputs": [
    {
     "data": {
      "text/plain": [
       "(array([[197, 197, 198, ..., 148, 148, 147],\n",
       "        [197, 197, 197, ..., 148, 149, 150],\n",
       "        [196, 197, 197, ..., 149, 150, 152],\n",
       "        ..., \n",
       "        [166, 172, 174, ...,  71,  71,  74],\n",
       "        [169, 174, 175, ...,  71,  73,  76],\n",
       "        [162, 167, 171, ...,  72,  74,  80]], dtype=uint8),\n",
       " array([[113, 113, 114, ...,  80,  77,  76],\n",
       "        [113, 113, 113, ...,  77,  78,  79],\n",
       "        [114, 113, 113, ...,  78,  79,  80],\n",
       "        ..., \n",
       "        [ 84,  91,  93, ...,  37,  37,  39],\n",
       "        [ 87,  93,  94, ...,  37,  38,  41],\n",
       "        [ 80,  86,  90, ...,  38,  39,  42]], dtype=uint8),\n",
       " array([[76, 76, 77, ..., 57, 55, 54],\n",
       "        [76, 76, 76, ..., 55, 56, 57],\n",
       "        [76, 76, 76, ..., 56, 57, 58],\n",
       "        ..., \n",
       "        [60, 64, 66, ..., 36, 35, 37],\n",
       "        [63, 66, 67, ..., 36, 36, 39],\n",
       "        [56, 59, 63, ..., 37, 37, 41]], dtype=uint8))"
      ]
     },
     "execution_count": 6,
     "metadata": {},
     "output_type": "execute_result"
    }
   ],
   "source": [
    "r,g,b"
   ]
  },
  {
   "cell_type": "code",
   "execution_count": 8,
   "metadata": {
    "collapsed": true
   },
   "outputs": [
    {
     "data": {
      "text/plain": [
       "array([[[ 76, 113, 197],\n",
       "        [ 76, 113, 197],\n",
       "        [ 77, 114, 198],\n",
       "        ..., \n",
       "        [ 57,  80, 148],\n",
       "        [ 55,  77, 148],\n",
       "        [ 54,  76, 147]],\n",
       "\n",
       "       [[ 76, 113, 197],\n",
       "        [ 76, 113, 197],\n",
       "        [ 76, 113, 197],\n",
       "        ..., \n",
       "        [ 55,  77, 148],\n",
       "        [ 56,  78, 149],\n",
       "        [ 57,  79, 150]],\n",
       "\n",
       "       [[ 76, 114, 196],\n",
       "        [ 76, 113, 197],\n",
       "        [ 76, 113, 197],\n",
       "        ..., \n",
       "        [ 56,  78, 149],\n",
       "        [ 57,  79, 150],\n",
       "        [ 58,  80, 152]],\n",
       "\n",
       "       ..., \n",
       "       [[ 60,  84, 166],\n",
       "        [ 64,  91, 172],\n",
       "        [ 66,  93, 174],\n",
       "        ..., \n",
       "        [ 36,  37,  71],\n",
       "        [ 35,  37,  71],\n",
       "        [ 37,  39,  74]],\n",
       "\n",
       "       [[ 63,  87, 169],\n",
       "        [ 66,  93, 174],\n",
       "        [ 67,  94, 175],\n",
       "        ..., \n",
       "        [ 36,  37,  71],\n",
       "        [ 36,  38,  73],\n",
       "        [ 39,  41,  76]],\n",
       "\n",
       "       [[ 56,  80, 162],\n",
       "        [ 59,  86, 167],\n",
       "        [ 63,  90, 171],\n",
       "        ..., \n",
       "        [ 37,  38,  72],\n",
       "        [ 37,  39,  74],\n",
       "        [ 41,  42,  80]]], dtype=uint8)"
      ]
     },
     "execution_count": 8,
     "metadata": {},
     "output_type": "execute_result"
    }
   ],
   "source": [
    "img[:,:,:]"
   ]
  },
  {
   "cell_type": "code",
   "execution_count": 393,
   "metadata": {
    "collapsed": false
   },
   "outputs": [],
   "source": [
    "img3 = img[:,:,::-1]#BRG倒序排列成RGB\n",
    "cv2.imshow('RGB',img3)\n",
    "cv2.waitKey(0)\n",
    "cv2.destroyAllWindows()"
   ]
  },
  {
   "cell_type": "code",
   "execution_count": 107,
   "metadata": {
    "collapsed": false
   },
   "outputs": [
    {
     "data": {
      "text/plain": [
       "((512, 512, 3), 786432, dtype('uint8'))"
      ]
     },
     "execution_count": 107,
     "metadata": {},
     "output_type": "execute_result"
    }
   ],
   "source": [
    "img.shape, img.size, img.dtype"
   ]
  },
  {
   "cell_type": "code",
   "execution_count": 6,
   "metadata": {
    "collapsed": false
   },
   "outputs": [],
   "source": [
    "#Create a monochrome image (img1_green) \n",
    "bb = np.zeros(b.shape, dtype=np.uint8)\n",
    "rr = np.zeros(r.shape, dtype=np.uint8)\n",
    "image_green = cv2.merge([bb,g,rr])\n",
    "cv2.imshow('Green channel',image_green)\n",
    "cv2.waitKey(0)\n",
    "cv2.destroyAllWindows()"
   ]
  },
  {
   "cell_type": "code",
   "execution_count": 7,
   "metadata": {
    "collapsed": true
   },
   "outputs": [],
   "source": [
    "image_green2 = img.copy()\n",
    "image_green2[:,:,0] = 0\n",
    "image_green2[:,:,2] = 0\n",
    "cv2.imshow('Green channel',image_green2)\n",
    "cv2.waitKey(0)\n",
    "cv2.destroyAllWindows()"
   ]
  },
  {
   "cell_type": "code",
   "execution_count": 157,
   "metadata": {
    "collapsed": true
   },
   "outputs": [
    {
     "data": {
      "text/plain": [
       "array([[76, 76, 77, ..., 57, 55, 54],\n",
       "       [76, 76, 76, ..., 55, 56, 57],\n",
       "       [76, 76, 76, ..., 56, 57, 58],\n",
       "       ..., \n",
       "       [60, 64, 66, ..., 36, 35, 37],\n",
       "       [63, 66, 67, ..., 36, 36, 39],\n",
       "       [56, 59, 63, ..., 37, 37, 41]], dtype=uint8)"
      ]
     },
     "execution_count": 157,
     "metadata": {},
     "output_type": "execute_result"
    }
   ],
   "source": [
    "img[:,:,0]"
   ]
  },
  {
   "cell_type": "code",
   "execution_count": 396,
   "metadata": {
    "collapsed": true
   },
   "outputs": [],
   "source": [
    "#Create a monochrome image (img1_red) \n",
    "bb = np.zeros(b.shape, dtype=np.uint8)\n",
    "gg = np.zeros(g.shape, dtype=np.uint8)\n",
    "image_red = cv2.merge([bb,gg,r])\n",
    "cv2.imshow('Red channel',image_red)\n",
    "cv2.waitKey(0)\n",
    "cv2.destroyAllWindows()"
   ]
  },
  {
   "cell_type": "code",
   "execution_count": 397,
   "metadata": {
    "collapsed": false
   },
   "outputs": [],
   "source": [
    "img_temp = img.copy()\n",
    "img_temp[img.shape[0]//2-50:img.shape[0]//2+51, img.shape[1]//2-50:img.shape[1]//2+51]=\\\n",
    "image_green[img.shape[0]//2-50:img.shape[0]//2+51, img.shape[1]//2-50:img.shape[1]//2+51]\n",
    "\n",
    "cv2.imshow('Replacement with green square',img_temp)\n",
    "cv2.waitKey(0)\n",
    "cv2.destroyAllWindows()\n"
   ]
  },
  {
   "cell_type": "code",
   "execution_count": 181,
   "metadata": {
    "collapsed": false
   },
   "outputs": [
    {
     "data": {
      "text/plain": [
       "(237, 0)"
      ]
     },
     "execution_count": 181,
     "metadata": {},
     "output_type": "execute_result"
    }
   ],
   "source": [
    "np.max(image_green[:,:,1]), np.min(image_green[:,:,1])"
   ]
  },
  {
   "cell_type": "code",
   "execution_count": 398,
   "metadata": {
    "collapsed": false
   },
   "outputs": [
    {
     "data": {
      "text/plain": [
       "41.048916170492099"
      ]
     },
     "execution_count": 398,
     "metadata": {},
     "output_type": "execute_result"
    }
   ],
   "source": [
    "standard_deviation = np.std(image_green[:,:,1])\n",
    "standard_deviation"
   ]
  },
  {
   "cell_type": "code",
   "execution_count": 399,
   "metadata": {
    "collapsed": false
   },
   "outputs": [
    {
     "data": {
      "text/plain": [
       "81"
      ]
     },
     "execution_count": 399,
     "metadata": {},
     "output_type": "execute_result"
    }
   ],
   "source": [
    "mean_value = np.int(np.mean(image_green[:,:,1]))\n",
    "mean_value"
   ]
  },
  {
   "cell_type": "code",
   "execution_count": 672,
   "metadata": {
    "collapsed": false,
    "scrolled": true
   },
   "outputs": [],
   "source": [
    "subtract_mean_image_temp = np.float32(image_green[:,:,1])-np.ones([512,512], dtype=np.float32)*mean_value\n",
    "subtract_mean_image = subtract_mean_image_temp/standard_deviation*10+np.ones([512,512], dtype=np.uint8)*mean_value\n",
    "image_green3 = image_green2.copy()\n",
    "image_green3[:,:,1] = np.round(subtract_mean_image)\n",
    "cv2.imshow(' ',image_green3)\n",
    "cv2.waitKey(0)\n",
    "cv2.destroyAllWindows()"
   ]
  },
  {
   "cell_type": "code",
   "execution_count": 448,
   "metadata": {
    "collapsed": false
   },
   "outputs": [
    {
     "data": {
      "text/plain": [
       "(array([[  7.79557753,   7.79557753,   8.03918934, ...,  -0.2436118 ,\n",
       "          -0.97444719,  -1.21805894],\n",
       "        [  7.79557753,   7.79557753,   7.79557753, ...,  -0.97444719,\n",
       "          -0.73083532,  -0.4872236 ],\n",
       "        [  8.03918934,   7.79557753,   7.79557753, ...,  -0.73083532,\n",
       "          -0.4872236 ,  -0.2436118 ],\n",
       "        ..., \n",
       "        [  0.73083532,   2.43611789,   2.92334127, ..., -10.7189188 ,\n",
       "         -10.7189188 , -10.23169518],\n",
       "        [  1.46167064,   2.92334127,   3.16695333, ..., -10.7189188 ,\n",
       "         -10.47530651,  -9.74447155],\n",
       "        [ -0.2436118 ,   1.21805894,   2.19250631, ..., -10.47530651,\n",
       "         -10.23169518,  -9.50086021]], dtype=float32),\n",
       " array([[  8.,   8.,   8., ...,  -0.,  -1.,  -1.],\n",
       "        [  8.,   8.,   8., ...,  -1.,  -1.,  -0.],\n",
       "        [  8.,   8.,   8., ...,  -1.,  -0.,  -0.],\n",
       "        ..., \n",
       "        [  1.,   2.,   3., ..., -11., -11., -10.],\n",
       "        [  1.,   3.,   3., ..., -11., -10., -10.],\n",
       "        [ -0.,   1.,   2., ..., -10., -10., -10.]], dtype=float32))"
      ]
     },
     "execution_count": 448,
     "metadata": {},
     "output_type": "execute_result"
    }
   ],
   "source": [
    "subtract_mean_image_temp/standard_deviation*10,np.round(subtract_mean_image_temp/standard_deviation*10)"
   ]
  },
  {
   "cell_type": "code",
   "execution_count": 426,
   "metadata": {
    "collapsed": true
   },
   "outputs": [],
   "source": [
    "subtract_mean_image_temp = image_green[:,:,1]-np.ones([512,512], dtype=np.uint8)*mean_value\n",
    "subtract_mean_image = subtract_mean_image_temp/standard_deviation*10+np.ones([512,512], dtype=np.uint8)*mean_value\n",
    "image_green3 = image_green2.copy()\n",
    "image_green3[:,:,1] = np.uint8(subtract_mean_image)\n",
    "cv2.imshow(' ',image_green3)\n",
    "cv2.waitKey(0)\n",
    "cv2.destroyAllWindows()"
   ]
  },
  {
   "cell_type": "code",
   "execution_count": 422,
   "metadata": {
    "collapsed": false
   },
   "outputs": [
    {
     "data": {
      "text/plain": [
       "array([[ 32,  32,  33, ..., 255, 252, 251],\n",
       "       [ 32,  32,  32, ..., 252, 253, 254],\n",
       "       [ 33,  32,  32, ..., 253, 254, 255],\n",
       "       ..., \n",
       "       [  3,  10,  12, ..., 212, 212, 214],\n",
       "       [  6,  12,  13, ..., 212, 213, 216],\n",
       "       [255,   5,   9, ..., 213, 214, 217]], dtype=uint8)"
      ]
     },
     "execution_count": 422,
     "metadata": {},
     "output_type": "execute_result"
    }
   ],
   "source": [
    "subtract_mean_image_temp"
   ]
  },
  {
   "cell_type": "code",
   "execution_count": 420,
   "metadata": {
    "collapsed": false
   },
   "outputs": [
    {
     "data": {
      "text/plain": [
       "array([[88, 88, 89, ..., 80, 80, 79],\n",
       "       [88, 88, 88, ..., 80, 80, 80],\n",
       "       [89, 88, 88, ..., 80, 80, 80],\n",
       "       ..., \n",
       "       [81, 83, 83, ..., 70, 70, 70],\n",
       "       [82, 83, 84, ..., 70, 70, 71],\n",
       "       [80, 82, 83, ..., 70, 70, 71]], dtype=uint8)"
      ]
     },
     "execution_count": 420,
     "metadata": {},
     "output_type": "execute_result"
    }
   ],
   "source": [
    "image_green3[:,:,1]"
   ]
  },
  {
   "cell_type": "code",
   "execution_count": 387,
   "metadata": {
    "collapsed": false
   },
   "outputs": [
    {
     "data": {
      "text/plain": [
       "array([[  7.79557753,   7.79557753,   8.03918934, ...,  -0.2436118 ,\n",
       "         -0.97444719,  -1.21805894],\n",
       "       [  7.79557753,   7.79557753,   7.79557753, ...,  -0.97444719,\n",
       "         -0.73083532,  -0.4872236 ],\n",
       "       [  8.03918934,   7.79557753,   7.79557753, ...,  -0.73083532,\n",
       "         -0.4872236 ,  -0.2436118 ],\n",
       "       ..., \n",
       "       [  0.73083532,   2.43611789,   2.92334127, ..., -10.7189188 ,\n",
       "        -10.7189188 , -10.23169518],\n",
       "       [  1.46167064,   2.92334127,   3.16695333, ..., -10.7189188 ,\n",
       "        -10.47530651,  -9.74447155],\n",
       "       [ -0.2436118 ,   1.21805894,   2.19250631, ..., -10.47530651,\n",
       "        -10.23169518,  -9.50086021]], dtype=float32)"
      ]
     },
     "execution_count": 387,
     "metadata": {},
     "output_type": "execute_result"
    }
   ],
   "source": [
    "subtract_mean_image_temp/standard_deviation*10"
   ]
  },
  {
   "cell_type": "code",
   "execution_count": 386,
   "metadata": {
    "collapsed": false
   },
   "outputs": [
    {
     "data": {
      "text/plain": [
       "array([[ 0,  0,  0, ...,  0,  0,  0],\n",
       "       [ 0,  0,  0, ...,  0,  0,  0],\n",
       "       [ 0,  0,  0, ...,  0,  0,  0],\n",
       "       ..., \n",
       "       [ 0,  0,  0, ..., -1, -1, -1],\n",
       "       [ 0,  0,  0, ..., -1, -1,  0],\n",
       "       [ 0,  0,  0, ..., -1, -1,  0]], dtype=int8)"
      ]
     },
     "execution_count": 386,
     "metadata": {},
     "output_type": "execute_result"
    }
   ],
   "source": [
    "np.int8(subtract_mean_image_temp/standard_deviation)"
   ]
  },
  {
   "cell_type": "code",
   "execution_count": 382,
   "metadata": {
    "collapsed": false
   },
   "outputs": [
    {
     "data": {
      "text/plain": [
       "(array([[1, 1],\n",
       "        [2, 3]], dtype=uint8), array([[2, 2],\n",
       "        [1, 1]], dtype=uint8), array([[255, 255],\n",
       "        [  1,   2]], dtype=uint8))"
      ]
     },
     "execution_count": 382,
     "metadata": {},
     "output_type": "execute_result"
    }
   ],
   "source": [
    "kk = np.array([[1,1],[2,3]],dtype=np.uint8)\n",
    "kkk = np.array([[2,2],[1,1]],dtype=np.uint8)\n",
    "kk,kkk,kk-kkk"
   ]
  },
  {
   "cell_type": "code",
   "execution_count": 235,
   "metadata": {
    "collapsed": false
   },
   "outputs": [
    {
     "data": {
      "text/plain": [
       "array([[255,   1],\n",
       "       [  2,   3]], dtype=uint8)"
      ]
     },
     "execution_count": 235,
     "metadata": {},
     "output_type": "execute_result"
    }
   ],
   "source": [
    "for a in kk:\n",
    "    for each in a:\n",
    "        if each < 0:\n",
    "            each = 0\n",
    "kk"
   ]
  },
  {
   "cell_type": "code",
   "execution_count": 321,
   "metadata": {
    "collapsed": false
   },
   "outputs": [],
   "source": [
    "#Shift image_green to the left by 2 pixels\n",
    "\n",
    "rows,cols = image_green2[:,:,1].shape\n",
    "image_translation = image_green.copy()\n",
    "M = np.float32([[1,0,-2],[0,1,0]])\n",
    "image_translation[:,:,1] = cv2.warpAffine(image_translation[:,:,1],M,(cols,rows))\n",
    "\n",
    "cv2.imshow('Shifted image',image_translation)\n",
    "cv2.waitKey(0)\n",
    "cv2.destroyAllWindows()"
   ]
  },
  {
   "cell_type": "code",
   "execution_count": 341,
   "metadata": {
    "collapsed": false
   },
   "outputs": [
    {
     "data": {
      "text/plain": [
       "(array([[114, 114, 115, ...,  76,   0,   0],\n",
       "        [113, 113, 114, ...,  79,   0,   0],\n",
       "        [113, 113, 112, ...,  80,   0,   0],\n",
       "        ..., \n",
       "        [ 93,  98, 107, ...,  39,   0,   0],\n",
       "        [ 94,  99, 107, ...,  41,   0,   0],\n",
       "        [ 90,  99, 111, ...,  42,   0,   0]], dtype=uint8),\n",
       " array([[113, 113, 114, ...,  80,  77,  76],\n",
       "        [113, 113, 113, ...,  77,  78,  79],\n",
       "        [114, 113, 113, ...,  78,  79,  80],\n",
       "        ..., \n",
       "        [ 84,  91,  93, ...,  37,  37,  39],\n",
       "        [ 87,  93,  94, ...,  37,  38,  41],\n",
       "        [ 80,  86,  90, ...,  38,  39,  42]], dtype=uint8))"
      ]
     },
     "execution_count": 341,
     "metadata": {},
     "output_type": "execute_result"
    }
   ],
   "source": [
    "image_translation[:,:,1], image_green[:,:,1]"
   ]
  },
  {
   "cell_type": "code",
   "execution_count": 714,
   "metadata": {
    "collapsed": false
   },
   "outputs": [],
   "source": [
    "#Subtract the shifted version of img1_green from the original img1_green\n",
    "difference1 = image_translation - image_green\n",
    "difference2 = np.int16(image_translation) - np.int16(image_green)\n",
    "cv2.imshow('Difference1',difference1)\n",
    "cv2.imshow('Difference2',difference2)\n",
    "cv2.waitKey(0)\n",
    "cv2.destroyAllWindows()"
   ]
  },
  {
   "cell_type": "code",
   "execution_count": 715,
   "metadata": {
    "collapsed": false
   },
   "outputs": [
    {
     "data": {
      "text/plain": [
       "(array([[  1,   1,   1, ..., 252, 179, 180],\n",
       "        [  0,   0,   1, ...,   2, 178, 177],\n",
       "        [255,   0, 255, ...,   2, 177, 176],\n",
       "        ..., \n",
       "        [  9,   7,  14, ...,   2, 219, 217],\n",
       "        [  7,   6,  13, ...,   4, 218, 215],\n",
       "        [ 10,  13,  21, ...,   4, 217, 214]], dtype=uint8),\n",
       " array([[  1,   1,   1, ...,  -4, -77, -76],\n",
       "        [  0,   0,   1, ...,   2, -78, -79],\n",
       "        [ -1,   0,  -1, ...,   2, -79, -80],\n",
       "        ..., \n",
       "        [  9,   7,  14, ...,   2, -37, -39],\n",
       "        [  7,   6,  13, ...,   4, -38, -41],\n",
       "        [ 10,  13,  21, ...,   4, -39, -42]], dtype=int16))"
      ]
     },
     "execution_count": 715,
     "metadata": {},
     "output_type": "execute_result"
    }
   ],
   "source": [
    "difference1[:,:,1],difference2[:,:,1]"
   ]
  },
  {
   "cell_type": "code",
   "execution_count": 657,
   "metadata": {
    "collapsed": false
   },
   "outputs": [
    {
     "data": {
      "text/plain": [
       "-192.0"
      ]
     },
     "execution_count": 657,
     "metadata": {},
     "output_type": "execute_result"
    }
   ],
   "source": [
    "np.min(difference2[:,:,1])"
   ]
  },
  {
   "cell_type": "code",
   "execution_count": 656,
   "metadata": {
    "collapsed": false
   },
   "outputs": [
    {
     "data": {
      "text/plain": [
       "197.0"
      ]
     },
     "execution_count": 656,
     "metadata": {},
     "output_type": "execute_result"
    }
   ],
   "source": [
    "difference3=difference2.copy()\n",
    "for r in range(difference3[:,:,1].shape[0]):\n",
    "    for c in range(difference3[:,:,1].shape[1]):\n",
    "        if difference3[:,:,1][r][c] < 0:\n",
    "            difference3[:,:,1][r][c] = 0\n",
    "cv2.imshow('Difference3',difference3)\n",
    "cv2.waitKey(0)\n",
    "cv2.destroyAllWindows()\n",
    "np.max(difference3[:,:,1])"
   ]
  },
  {
   "cell_type": "code",
   "execution_count": 718,
   "metadata": {
    "collapsed": false
   },
   "outputs": [
    {
     "data": {
      "text/plain": [
       "(array([[129, 129, 129, ..., 125,  77,  77],\n",
       "        [128, 128, 129, ..., 129,  76,  75],\n",
       "        [127, 128, 127, ..., 129,  75,  75],\n",
       "        ..., \n",
       "        [134, 133, 137, ..., 129, 103, 102],\n",
       "        [133, 132, 136, ..., 131, 103, 101],\n",
       "        [134, 136, 142, ..., 131, 102, 100]], dtype=int16),\n",
       " array([[129, 129, 129, ..., 125,  77,  77],\n",
       "        [128, 128, 129, ..., 129,  76,  75],\n",
       "        [127, 128, 127, ..., 129,  75,  75],\n",
       "        ..., \n",
       "        [134, 133, 137, ..., 129, 103, 102],\n",
       "        [133, 132, 136, ..., 131, 103, 101],\n",
       "        [134, 136, 142, ..., 131, 102, 100]], dtype=uint8))"
      ]
     },
     "execution_count": 718,
     "metadata": {},
     "output_type": "execute_result"
    }
   ],
   "source": [
    "#Map min negative pixiels to 0-128 and max positive pixels to 128-255\n",
    "difference4=difference2.copy()\n",
    "for r in range(difference4[:,:,1].shape[0]):\n",
    "    for c in range(difference4[:,:,1].shape[1]):\n",
    "        if difference4[:,:,1][r][c] <= 0:\n",
    "            difference4[:,:,1][r][c] = np.round(128/192*difference4[:,:,1][r][c]+128)\n",
    "        else:\n",
    "            difference4[:,:,1][r][c] = np.round(127/197*difference4[:,:,1][r][c]+128)\n",
    "\n",
    "cv2.imshow('Difference4',np.uint8(difference4))\n",
    "cv2.waitKey(0)\n",
    "cv2.destroyAllWindows()\n",
    "difference4[:,:,1],np.uint8(difference4[:,:,1])"
   ]
  },
  {
   "cell_type": "code",
   "execution_count": 664,
   "metadata": {
    "collapsed": false
   },
   "outputs": [
    {
     "data": {
      "text/plain": [
       "(0.0, 255.0)"
      ]
     },
     "execution_count": 664,
     "metadata": {},
     "output_type": "execute_result"
    }
   ],
   "source": [
    "np.min(difference4[:,:,1]), np.max(difference4[:,:,1])"
   ]
  },
  {
   "cell_type": "code",
   "execution_count": 668,
   "metadata": {
    "collapsed": false
   },
   "outputs": [
    {
     "data": {
      "text/plain": [
       "array([[129, 129, 129, ..., 125,  77,  77],\n",
       "       [128, 128, 129, ..., 129,  76,  75],\n",
       "       [127, 128, 127, ..., 129,  75,  75],\n",
       "       ..., \n",
       "       [134, 133, 137, ..., 129, 103, 102],\n",
       "       [133, 132, 136, ..., 131, 103, 101],\n",
       "       [134, 136, 142, ..., 131, 102, 100]], dtype=uint8)"
      ]
     },
     "execution_count": 668,
     "metadata": {},
     "output_type": "execute_result"
    }
   ],
   "source": [
    "np.uint8(difference4)[:,:,1]"
   ]
  },
  {
   "cell_type": "code",
   "execution_count": 719,
   "metadata": {
    "collapsed": true
   },
   "outputs": [],
   "source": [
    "from skimage import exposure, img_as_ubyte\n",
    "imagexx=difference2.copy()\n",
    "imagexx[:,:,1] = exposure.rescale_intensity(imagexx[:,:,1], out_range=(0, 2**8-1))\n",
    "#img_uint8 = img_as_ubyte(imagexx)\n",
    "\n",
    "cv2.imshow('Difference4',np.uint8(imagexx))\n",
    "cv2.waitKey(0)\n",
    "cv2.destroyAllWindows()"
   ]
  },
  {
   "cell_type": "code",
   "execution_count": 713,
   "metadata": {
    "collapsed": false
   },
   "outputs": [
    {
     "data": {
      "text/plain": [
       "array([[ 127.,  127.,  127., ...,  123.,   75.,   76.],\n",
       "       [ 126.,  126.,  127., ...,  127.,   75.,   74.],\n",
       "       [ 125.,  126.,  125., ...,  127.,   74.,   73.],\n",
       "       ..., \n",
       "       [ 132.,  130.,  135., ...,  127.,  102.,  100.],\n",
       "       [ 130.,  130.,  134., ...,  128.,  101.,   99.],\n",
       "       [ 132.,  134.,  140., ...,  128.,  100.,   98.]], dtype=float32)"
      ]
     },
     "execution_count": 713,
     "metadata": {},
     "output_type": "execute_result"
    }
   ],
   "source": [
    "np.round(imagexx[:,:,1])"
   ]
  },
  {
   "cell_type": "code",
   "execution_count": 673,
   "metadata": {
    "collapsed": false
   },
   "outputs": [],
   "source": [
    "#Noise\n",
    "image_noise = np.float32(img.copy())\n",
    "mu, sigma = 0, 1 # mean and standard deviation\n",
    "noise = np.random.normal(mu, sigma, image_noise[:,:,1].shape)"
   ]
  },
  {
   "cell_type": "code",
   "execution_count": 644,
   "metadata": {
    "collapsed": false
   },
   "outputs": [
    {
     "data": {
      "text/plain": [
       "array([[-0.04388357,  1.1493566 ,  0.53592342, ..., -0.05947948,\n",
       "         0.41815308, -1.03651357],\n",
       "       [-0.46873471, -0.19660221, -1.28478181, ..., -0.38350722,\n",
       "        -1.46715534,  0.00600765],\n",
       "       [-0.1258824 , -1.32959819,  1.08920598, ..., -0.30887493,\n",
       "        -2.23187661,  0.72785193],\n",
       "       ..., \n",
       "       [ 0.06505363, -1.02147198,  0.88629043, ..., -1.60838175,\n",
       "        -0.07727242,  0.29321149],\n",
       "       [-2.2026813 , -0.40648395,  1.48700464, ..., -1.60953271,\n",
       "         0.18694006, -0.23314673],\n",
       "       [-1.08847153,  1.24813187, -0.93315345, ...,  1.19956839,\n",
       "         0.9377768 ,  1.04058373]], dtype=float32)"
      ]
     },
     "execution_count": 644,
     "metadata": {},
     "output_type": "execute_result"
    }
   ],
   "source": [
    "np.float32(noise)"
   ]
  },
  {
   "cell_type": "code",
   "execution_count": 645,
   "metadata": {
    "collapsed": false
   },
   "outputs": [],
   "source": [
    "image_noise[:,:,1] = np.float32(image_noise[:,:,1])+np.float32(noise)"
   ]
  },
  {
   "cell_type": "code",
   "execution_count": 646,
   "metadata": {
    "collapsed": false,
    "scrolled": true
   },
   "outputs": [
    {
     "name": "stdout",
     "output_type": "stream",
     "text": [
      "[[ 112.95611572  114.14935303  114.53592682 ...,   79.94052124\n",
      "    77.41815186   74.96348572]\n",
      " [ 112.53126526  112.80339813  111.71521759 ...,   76.61649323\n",
      "    76.53284454   79.00600433]\n",
      " [ 113.87411499  111.67040253  114.08920288 ...,   77.69112396\n",
      "    76.76811981   80.72785187]\n",
      " ..., \n",
      " [  84.06505585   89.97853088   93.8862915  ...,   35.39161682\n",
      "    36.92272568   39.29321289]\n",
      " [  84.7973175    92.59351349   95.48700714 ...,   35.3904686    38.18693924\n",
      "    40.76685333]\n",
      " [  78.91152954   87.2481308    89.06684875 ...,   39.1995697    39.93777847\n",
      "    43.04058456]]\n"
     ]
    }
   ],
   "source": [
    "print (image_noise[:,:,1])"
   ]
  },
  {
   "cell_type": "code",
   "execution_count": 647,
   "metadata": {
    "collapsed": false
   },
   "outputs": [],
   "source": [
    "cv2.imshow('Image with noise', np.int8(image_noise))\n",
    "cv2.waitKey(0)\n",
    "cv2.destroyAllWindows()"
   ]
  },
  {
   "cell_type": "code",
   "execution_count": 633,
   "metadata": {
    "collapsed": false
   },
   "outputs": [
    {
     "name": "stdout",
     "output_type": "stream",
     "text": [
      "[[113 113 114 ...,  80  77  76]\n",
      " [113 113 113 ...,  77  78  79]\n",
      " [114 113 113 ...,  78  79  80]\n",
      " ..., \n",
      " [ 84  91  93 ...,  37  37  39]\n",
      " [ 87  93  94 ...,  37  38  41]\n",
      " [ 80  86  90 ...,  38  39  42]]\n"
     ]
    }
   ],
   "source": [
    "print (image_green[:,:,1])"
   ]
  },
  {
   "cell_type": "code",
   "execution_count": 611,
   "metadata": {
    "collapsed": true
   },
   "outputs": [],
   "source": [
    "cv2.imshow('Image with noise', image_green)\n",
    "cv2.waitKey(0)\n",
    "cv2.destroyAllWindows()"
   ]
  },
  {
   "cell_type": "code",
   "execution_count": 741,
   "metadata": {
    "collapsed": false
   },
   "outputs": [
    {
     "data": {
      "text/plain": [
       "array([[    1,     2,     3],\n",
       "       [    4,     5, 99999]])"
      ]
     },
     "execution_count": 741,
     "metadata": {},
     "output_type": "execute_result"
    }
   ],
   "source": [
    "np.array(((1,2,3),(4,5,99999)), dtype=np.int_)"
   ]
  },
  {
   "cell_type": "code",
   "execution_count": 748,
   "metadata": {
    "collapsed": false
   },
   "outputs": [
    {
     "ename": "TypeError",
     "evalue": "random_sample() takes at most 1 positional argument (2 given)",
     "output_type": "error",
     "traceback": [
      "\u001b[1;31m---------------------------------------------------------------------------\u001b[0m",
      "\u001b[1;31mTypeError\u001b[0m                                 Traceback (most recent call last)",
      "\u001b[1;32m<ipython-input-748-46b15c46e9a7>\u001b[0m in \u001b[0;36m<module>\u001b[1;34m()\u001b[0m\n\u001b[1;32m----> 1\u001b[1;33m \u001b[0mnp\u001b[0m\u001b[1;33m.\u001b[0m\u001b[0mrandom\u001b[0m\u001b[1;33m.\u001b[0m\u001b[0mrandom\u001b[0m\u001b[1;33m(\u001b[0m\u001b[1;36m5\u001b[0m\u001b[1;33m,\u001b[0m\u001b[1;36m4\u001b[0m\u001b[1;33m)\u001b[0m\u001b[1;33m\u001b[0m\u001b[0m\n\u001b[0m",
      "\u001b[1;32mmtrand.pyx\u001b[0m in \u001b[0;36mmtrand.RandomState.random_sample (numpy\\random\\mtrand\\mtrand.c:10361)\u001b[1;34m()\u001b[0m\n",
      "\u001b[1;31mTypeError\u001b[0m: random_sample() takes at most 1 positional argument (2 given)"
     ]
    }
   ],
   "source": [
    "np.random.random(5,4)"
   ]
  },
  {
   "cell_type": "code",
   "execution_count": 751,
   "metadata": {
    "collapsed": false
   },
   "outputs": [
    {
     "data": {
      "text/plain": [
       "array([[ 50.19403159,  67.03617567,  60.64022871],\n",
       "       [ 36.70776912,  42.46655629,  46.85915818]])"
      ]
     },
     "execution_count": 751,
     "metadata": {},
     "output_type": "execute_result"
    }
   ],
   "source": [
    "np.random.normal(50,10,(2,3))"
   ]
  },
  {
   "cell_type": "code",
   "execution_count": 756,
   "metadata": {
    "collapsed": false
   },
   "outputs": [
    {
     "data": {
      "text/plain": [
       "array([[2, 0, 4],\n",
       "       [5, 0, 1]])"
      ]
     },
     "execution_count": 756,
     "metadata": {},
     "output_type": "execute_result"
    }
   ],
   "source": [
    "a = np.random.randint(0,10,[2,3])\n",
    "a"
   ]
  },
  {
   "cell_type": "code",
   "execution_count": 758,
   "metadata": {
    "collapsed": false
   },
   "outputs": [
    {
     "data": {
      "text/plain": [
       "array([0, 0])"
      ]
     },
     "execution_count": 758,
     "metadata": {},
     "output_type": "execute_result"
    }
   ],
   "source": [
    "np.min(a,axis=1)"
   ]
  },
  {
   "cell_type": "code",
   "execution_count": 763,
   "metadata": {
    "collapsed": false
   },
   "outputs": [
    {
     "data": {
      "text/plain": [
       "array([2, 0], dtype=int64)"
      ]
     },
     "execution_count": 763,
     "metadata": {},
     "output_type": "execute_result"
    }
   ],
   "source": [
    "np.argmax(a,axis=1)"
   ]
  },
  {
   "cell_type": "code",
   "execution_count": 26,
   "metadata": {
    "collapsed": false
   },
   "outputs": [
    {
     "data": {
      "text/plain": [
       "[0, 1, 4, 9, 16, 25, 36, 49, 64, 81]"
      ]
     },
     "execution_count": 26,
     "metadata": {},
     "output_type": "execute_result"
    }
   ],
   "source": [
    "list(map(lambda x: x ** 2, range(10)))"
   ]
  },
  {
   "cell_type": "code",
   "execution_count": 31,
   "metadata": {
    "collapsed": false
   },
   "outputs": [
    {
     "name": "stdout",
     "output_type": "stream",
     "text": [
      "Angela Merkel\n",
      "Germany\n",
      "60\n",
      "Chancelor\n"
     ]
    }
   ],
   "source": [
    "d = {'Name' : 'Angela Merkel',\n",
    "     'Country' : 'Germany',\n",
    "     'Profession' : 'Chancelor',\n",
    "     'Age' : 60} \n",
    "for items in d.values():\n",
    "    print (items)"
   ]
  },
  {
   "cell_type": "code",
   "execution_count": null,
   "metadata": {
    "collapsed": true
   },
   "outputs": [],
   "source": [
    "###After adding (+/-) noise , the pixel values clips at 0, 255\n",
    "img1_with_green_noise = np.int16(image1.copy())\n",
    "img1_with_green_noise[:,:,1] = np.int16(img1_with_green_noise[:,:,1]) + noise\n",
    "###Rescale the noised image to [0,255]\n",
    "img1_with_green_noise[:,:,1] = exposure.rescale_intensity(img1_with_green_noise[:,:,1], out_range=(0, 255))\n",
    "img1_with_green_noise = np.uint8(img1_with_green_noise)\n",
    "cv2.imwrite('output\\ps1-5-a-1.png',img1_with_green_noise)"
   ]
  }
 ],
 "metadata": {
  "kernelspec": {
   "display_name": "Python 3",
   "language": "python",
   "name": "python3"
  },
  "language_info": {
   "codemirror_mode": {
    "name": "ipython",
    "version": 3
   },
   "file_extension": ".py",
   "mimetype": "text/x-python",
   "name": "python",
   "nbconvert_exporter": "python",
   "pygments_lexer": "ipython3",
   "version": "3.5.1"
  }
 },
 "nbformat": 4,
 "nbformat_minor": 0
}
