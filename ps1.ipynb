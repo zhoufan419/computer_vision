{
 "cells": [
  {
   "cell_type": "code",
   "execution_count": 2,
   "metadata": {
    "collapsed": true
   },
   "outputs": [],
   "source": [
    "import cv2\n",
    "import numpy as np\n",
    "import matplotlib.pyplot as plt\n",
    "from skimage import exposure"
   ]
  },
  {
   "cell_type": "code",
   "execution_count": 3,
   "metadata": {
    "collapsed": false
   },
   "outputs": [
    {
     "data": {
      "text/plain": [
       "True"
      ]
     },
     "execution_count": 3,
     "metadata": {},
     "output_type": "execute_result"
    }
   ],
   "source": [
    "#Input images\n",
    "image1 = cv2.imread('input\\lena.png')\n",
    "image2 = cv2.imread('input\\leaf.png')\n",
    "cv2.imwrite('output\\ps1-1-a-1.png',image1)\n",
    "cv2.imwrite('output\\ps1-1-a-2.png',image2)"
   ]
  },
  {
   "cell_type": "code",
   "execution_count": 4,
   "metadata": {
    "collapsed": false
   },
   "outputs": [
    {
     "data": {
      "text/plain": [
       "True"
      ]
     },
     "execution_count": 4,
     "metadata": {},
     "output_type": "execute_result"
    }
   ],
   "source": [
    "#Color planes\n",
    "##Swap the red pixels and blue pixels of image1\n",
    "b,g,r = cv2.split(image1)\n",
    "image1_swap = cv2.merge([r,g,b])\n",
    "cv2.imwrite('output\\ps1-2-a-1.png',image1_swap)"
   ]
  },
  {
   "cell_type": "code",
   "execution_count": 11,
   "metadata": {
    "collapsed": false
   },
   "outputs": [
    {
     "data": {
      "text/plain": [
       "True"
      ]
     },
     "execution_count": 11,
     "metadata": {},
     "output_type": "execute_result"
    }
   ],
   "source": [
    "##Create a monochrome img1_green by selecting the green channel of image1\n",
    "img1_green = image1.copy()[:,:,1]\n",
    "cv2.imwrite('output\\ps1-2-b-1.png',img1_green)"
   ]
  },
  {
   "cell_type": "code",
   "execution_count": 12,
   "metadata": {
    "collapsed": false
   },
   "outputs": [
    {
     "data": {
      "text/plain": [
       "True"
      ]
     },
     "execution_count": 12,
     "metadata": {},
     "output_type": "execute_result"
    }
   ],
   "source": [
    "##Create a monochrome img1_red by selecting the red channel of image1\n",
    "img1_red = image1.copy()[:,:,2]\n",
    "cv2.imwrite('output\\ps1-2-c-1.png',img1_red)"
   ]
  },
  {
   "cell_type": "code",
   "execution_count": 13,
   "metadata": {
    "collapsed": false
   },
   "outputs": [
    {
     "data": {
      "text/plain": [
       "True"
      ]
     },
     "execution_count": 13,
     "metadata": {},
     "output_type": "execute_result"
    }
   ],
   "source": [
    "##Grayscale conversion of the original image1\n",
    "gray = cv2.cvtColor(image1.copy(), cv2.COLOR_BGR2GRAY)#0.114*B+0.587*G+0.299*R\n",
    "cv2.imwrite('temp\\image1_BGR2GRAY.png',gray)"
   ]
  },
  {
   "cell_type": "code",
   "execution_count": 14,
   "metadata": {
    "collapsed": false
   },
   "outputs": [
    {
     "data": {
      "text/plain": [
       "True"
      ]
     },
     "execution_count": 14,
     "metadata": {},
     "output_type": "execute_result"
    }
   ],
   "source": [
    "#Replacement of pixels\n",
    "##Take center square region of 100x100 pixels of ps1-2-b-1.png and insert it into a monochome version of image2\n",
    "img2_red = image2.copy()[:,:,2]\n",
    "img2_red[image2.shape[0]//2-50:image2.shape[0]//2+51, image2.shape[1]//2-50:image2.shape[1]//2+51] =\\\n",
    "img1_green[image1.shape[0]//2-50:image1.shape[0]//2+51, image1.shape[1]//2-50:image1.shape[1]//2+51]\n",
    "cv2.imwrite('output\\ps1-3-a-1.png',img2_red)"
   ]
  },
  {
   "cell_type": "code",
   "execution_count": 15,
   "metadata": {
    "collapsed": false
   },
   "outputs": [
    {
     "name": "stdout",
     "output_type": "stream",
     "text": [
      "The standard deviation of img1_green is 41.0\n",
      "The mean of img1_green is 78.0\n"
     ]
    }
   ],
   "source": [
    "#Arithmetic and Geometric operations\n",
    "##The min and max of the pixel values of img1_green, the mean? the standard deviation\n",
    "standard_deviation = np.round(np.std(img1_green))\n",
    "mean_value = np.round(np.mean(img1_green))\n",
    "print ('The standard deviation of img1_green is', standard_deviation)\n",
    "print ('The mean of img1_green is', mean_value)"
   ]
  },
  {
   "cell_type": "code",
   "execution_count": 16,
   "metadata": {
    "collapsed": false
   },
   "outputs": [
    {
     "data": {
      "text/plain": [
       "True"
      ]
     },
     "execution_count": 16,
     "metadata": {},
     "output_type": "execute_result"
    }
   ],
   "source": [
    "##Subtract the mean from all pixels, then divide by standard deviation, then multiply by 10\n",
    "img_manipulation = img1_green.copy()\n",
    "subtract_mean = img_manipulation-np.ones(img_manipulation.shape, dtype=np.int8)*mean_value\n",
    "divide_std_x10 = np.round(subtract_mean/standard_deviation*10)\n",
    "plus_mean = divide_std_x10+np.ones(img_manipulation.shape, dtype=np.int8)*mean_value\n",
    "###Here all plus mean value are in [0,255), no need to rescale\n",
    "img_manipulation = plus_mean\n",
    "cv2.imwrite('output\\ps1-4-b-1.png',img_manipulation)"
   ]
  },
  {
   "cell_type": "code",
   "execution_count": 24,
   "metadata": {
    "collapsed": false
   },
   "outputs": [
    {
     "data": {
      "text/plain": [
       "True"
      ]
     },
     "execution_count": 24,
     "metadata": {},
     "output_type": "execute_result"
    }
   ],
   "source": [
    "##Shift img1_green to the left by 2 pixels\n",
    "img_shift = img1_green.copy()\n",
    "rows,cols = img_shift.shape\n",
    "M = np.float32([[1,0,-2],[0,1,0]])\n",
    "img_shift = cv2.warpAffine(img_shift,M,(cols,rows))\n",
    "cv2.imwrite('output\\ps1-4-c-1.png',img_shift)"
   ]
  },
  {
   "cell_type": "code",
   "execution_count": 25,
   "metadata": {
    "collapsed": false
   },
   "outputs": [
    {
     "data": {
      "text/plain": [
       "True"
      ]
     },
     "execution_count": 25,
     "metadata": {},
     "output_type": "execute_result"
    }
   ],
   "source": [
    "##Subtract img_shift of img1_green from the original img1_green\n",
    "###Since some pixels are negative after difference, we need to expand data range to int16 to stroe negative values.\n",
    "difference = np.int16(img_shift) - np.int16(img1_green)\n",
    "cv2.imwrite('temp\\ps1-4-d-1_without_scaling.png',difference)\n",
    "###The difference matrix successfully stores negative values. We rescale it to [0,255] to show the uint8 type image.\n",
    "min_pixel = np.min(difference)\n",
    "max_pixel = np.max(difference)\n",
    "for r in range(difference.shape[0]):\n",
    "    for c in range(difference.shape[1]):\n",
    "            difference[r][c] = np.round(255*(difference[r][c]-min_pixel)/(max_pixel-min_pixel))\n",
    "difference = np.uint8(difference)#imwrite always expects [0,255] range\n",
    "cv2.imwrite('output\\ps1-4-d-1.png',difference)\n",
    "###Another way to scale\n",
    "###difference = exposure.rescale_intensity(difference, out_range=(0, 255))"
   ]
  },
  {
   "cell_type": "code",
   "execution_count": 19,
   "metadata": {
    "collapsed": false
   },
   "outputs": [],
   "source": [
    "#Noise\n",
    "##Take the original img1 and add Gaussian noise to the pixels in the green channel.\n",
    "##Increase sigma until the noise is somewhat visible.\n",
    "img1_with_green_noise = np.int16(image1.copy())\n",
    "mu, sigma = 0, 10 # mean and standard deviation of Gaussian distribution\n",
    "noise = np.round(np.random.normal(mu, sigma, img1_with_green_noise[:,:,1].shape))"
   ]
  },
  {
   "cell_type": "code",
   "execution_count": 20,
   "metadata": {
    "collapsed": false
   },
   "outputs": [
    {
     "data": {
      "text/plain": [
       "True"
      ]
     },
     "execution_count": 20,
     "metadata": {},
     "output_type": "execute_result"
    }
   ],
   "source": [
    "###After adding (+/-) noise to green channel, the pixel values clips at 0 and 255\n",
    "img1_with_green_noise[:,:,1] = np.int16(img1_with_green_noise[:,:,1]) + noise\n",
    "###Truncate at 0 and 255\n",
    "ret,img1_with_green_noise[:,:,1] = cv2.threshold(img1_with_green_noise[:,:,1],255,255,cv2.THRESH_TRUNC)\n",
    "ret,img1_with_green_noise[:,:,1] = cv2.threshold(img1_with_green_noise[:,:,1],0,0,cv2.THRESH_TOZERO)\n",
    "img1_with_green_noise = np.uint8(img1_with_green_noise)\n",
    "cv2.imwrite('output\\ps1-5-a-1.png',img1_with_green_noise)"
   ]
  },
  {
   "cell_type": "code",
   "execution_count": 21,
   "metadata": {
    "collapsed": false
   },
   "outputs": [
    {
     "data": {
      "text/plain": [
       "True"
      ]
     },
     "execution_count": 21,
     "metadata": {},
     "output_type": "execute_result"
    }
   ],
   "source": [
    "##Instead add that amount of noise to the blue channel. The pixel values clips at 0 and 255\n",
    "img1_with_blue_noise = np.int16(image1.copy())\n",
    "img1_with_blue_noise[:,:,0] = np.int16(img1_with_blue_noise[:,:,0]) + noise\n",
    "###Truncate at 0 and 255\n",
    "ret,img1_with_blue_noise[:,:,0] = cv2.threshold(img1_with_blue_noise[:,:,0],255,255,cv2.THRESH_TRUNC)\n",
    "ret,img1_with_blue_noise[:,:,0] = cv2.threshold(img1_with_blue_noise[:,:,0],0,0,cv2.THRESH_TOZERO)\n",
    "img1_with_blue_noise = np.uint8(img1_with_blue_noise)\n",
    "cv2.imwrite('output\\ps1-5-b-1.png',img1_with_blue_noise)"
   ]
  },
  {
   "cell_type": "code",
   "execution_count": null,
   "metadata": {
    "collapsed": true
   },
   "outputs": [],
   "source": []
  }
 ],
 "metadata": {
  "kernelspec": {
   "display_name": "Python 3",
   "language": "python",
   "name": "python3"
  },
  "language_info": {
   "codemirror_mode": {
    "name": "ipython",
    "version": 3
   },
   "file_extension": ".py",
   "mimetype": "text/x-python",
   "name": "python",
   "nbconvert_exporter": "python",
   "pygments_lexer": "ipython3",
   "version": "3.5.1"
  }
 },
 "nbformat": 4,
 "nbformat_minor": 0
}
